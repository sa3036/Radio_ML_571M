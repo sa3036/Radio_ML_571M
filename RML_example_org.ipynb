{
 "cells": [
  {
   "cell_type": "code",
   "execution_count": 3,
   "metadata": {},
   "outputs": [
    {
     "data": {
      "text/plain": [
       "('RML2016.10a.tar.bz2', <http.client.HTTPMessage at 0x7fc2e4665390>)"
      ]
     },
     "execution_count": 3,
     "metadata": {},
     "output_type": "execute_result"
    }
   ],
   "source": [
    "#Download the dataset from opensig\n",
    "import urllib.request\n",
    "urllib.request.urlretrieve('http://opendata.deepsig.io/datasets/2016.10/RML2016.10a.tar.bz2', 'RML2016.10a.tar.bz2')"
   ]
  },
  {
   "cell_type": "code",
   "execution_count": 4,
   "metadata": {},
   "outputs": [],
   "source": [
    "#decompress the .bz2 file into .tar file\n",
    "import sys\n",
    "import os\n",
    "import bz2\n",
    "\n",
    "zipfile = bz2.BZ2File('./RML2016.10a.tar.bz2') # open the file\n",
    "data = zipfile.read() # get the decompressed data"
   ]
  },
  {
   "cell_type": "code",
   "execution_count": 5,
   "metadata": {},
   "outputs": [
    {
     "data": {
      "text/plain": [
       "640952320"
      ]
     },
     "execution_count": 5,
     "metadata": {},
     "output_type": "execute_result"
    }
   ],
   "source": [
    "#write the .tar file\n",
    "open('./RML2016.10a.tar', 'wb').write(data) # write a uncompressed file"
   ]
  },
  {
   "cell_type": "code",
   "execution_count": 6,
   "metadata": {},
   "outputs": [],
   "source": [
    "#extract the .tar file\n",
    "import tarfile\n",
    "my_tar = tarfile.open('./RML2016.10a.tar')\n",
    "my_tar.extractall('./') # specify which folder to extract to\n",
    "my_tar.close()"
   ]
  },
  {
   "cell_type": "code",
   "execution_count": 1,
   "metadata": {},
   "outputs": [],
   "source": [
    "#extract the pickle file\n",
    "import pickle\n",
    "import numpy as np\n",
    "Xd = pickle.load(open(\"RML2016.10a_dict.pkl\",'rb'),encoding=\"bytes\")\n",
    "snrs,mods = map(lambda j: sorted(list(set(map(lambda x: x[j], Xd.keys())))), [1,0])\n",
    "X = []  \n",
    "lbl = []\n",
    "for mod in mods:\n",
    "    for snr in snrs:\n",
    "        X.append(Xd[(mod,snr)])\n",
    "        for i in range(Xd[(mod,snr)].shape[0]):  lbl.append((mod,snr))\n",
    "X = np.vstack(X)"
   ]
  },
  {
   "cell_type": "code",
   "execution_count": 2,
   "metadata": {},
   "outputs": [],
   "source": [
    "# Import all the things we need ---\n",
    "%matplotlib inline\n",
    "import random\n",
    "import tensorflow.keras.utils\n",
    "import tensorflow.keras.models as models\n",
    "from tensorflow.keras.layers import Reshape,Dense,Dropout,Activation,Flatten\n",
    "from tensorflow.keras.layers import GaussianNoise\n",
    "from tensorflow.keras.layers import Convolution2D, MaxPooling2D, ZeroPadding2D\n",
    "from tensorflow.keras.regularizers import *\n",
    "from tensorflow.keras.optimizers import *\n",
    "import matplotlib.pyplot as plt\n",
    "import seaborn as sns\n",
    "import tensorflow.keras"
   ]
  },
  {
   "cell_type": "code",
   "execution_count": 3,
   "metadata": {},
   "outputs": [],
   "source": [
    "# Partition the data\n",
    "#  into training and test sets of the form we can train/test on \n",
    "np.random.seed(2020)\n",
    "n_examples = X.shape[0]\n",
    "n_train = n_examples // 2\n",
    "train_idx = np.random.choice(range(0,n_examples), size=n_train, replace=False)\n",
    "test_idx = list(set(range(0,n_examples))-set(train_idx))\n",
    "X_train = X[train_idx]\n",
    "X_test =  X[test_idx]"
   ]
  },
  {
   "cell_type": "code",
   "execution_count": 4,
   "metadata": {},
   "outputs": [
    {
     "name": "stdout",
     "output_type": "stream",
     "text": [
      "[b'8PSK' b'AM-DSB' b'AM-SSB' b'BPSK' b'CPFSK' b'GFSK' b'PAM4' b'QAM16'\n",
      " b'QAM64' b'QPSK' b'WBFM']\n"
     ]
    }
   ],
   "source": [
    "#one-hot encoding the label\n",
    "from sklearn import preprocessing\n",
    "lb = preprocessing.LabelBinarizer()\n",
    "lb.fit(np.asarray(lbl)[:,0])\n",
    "print(lb.classes_)\n",
    "lbl_encoded=lb.transform(np.asarray(lbl)[:,0])\n",
    "y_train=lbl_encoded[train_idx]\n",
    "y_test=lbl_encoded[test_idx]"
   ]
  },
  {
   "cell_type": "code",
   "execution_count": 5,
   "metadata": {},
   "outputs": [
    {
     "name": "stdout",
     "output_type": "stream",
     "text": [
      "(110000, 2, 128) [2, 128]\n"
     ]
    }
   ],
   "source": [
    "in_shp = list(X_train.shape[1:])\n",
    "print(X_train.shape, in_shp)\n",
    "classes = mods"
   ]
  },
  {
   "cell_type": "code",
   "execution_count": 6,
   "metadata": {},
   "outputs": [
    {
     "name": "stdout",
     "output_type": "stream",
     "text": [
      "Model: \"sequential\"\n",
      "_________________________________________________________________\n",
      "Layer (type)                 Output Shape              Param #   \n",
      "=================================================================\n",
      "reshape (Reshape)            (None, 1, 2, 128)         0         \n",
      "_________________________________________________________________\n",
      "zero_padding2d (ZeroPadding2 (None, 1, 6, 128)         0         \n",
      "_________________________________________________________________\n",
      "conv1 (Conv2D)               (None, 1, 2, 256)         33024     \n",
      "_________________________________________________________________\n",
      "dropout (Dropout)            (None, 1, 2, 256)         0         \n",
      "_________________________________________________________________\n",
      "zero_padding2d_1 (ZeroPaddin (None, 1, 6, 256)         0         \n",
      "_________________________________________________________________\n",
      "conv2 (Conv2D)               (None, 1, 2, 80)          20560     \n",
      "_________________________________________________________________\n",
      "dropout_1 (Dropout)          (None, 1, 2, 80)          0         \n",
      "_________________________________________________________________\n",
      "flatten (Flatten)            (None, 160)               0         \n",
      "_________________________________________________________________\n",
      "dense1 (Dense)               (None, 256)               41216     \n",
      "_________________________________________________________________\n",
      "dropout_2 (Dropout)          (None, 256)               0         \n",
      "_________________________________________________________________\n",
      "dense2 (Dense)               (None, 11)                2827      \n",
      "_________________________________________________________________\n",
      "activation (Activation)      (None, 11)                0         \n",
      "_________________________________________________________________\n",
      "reshape_1 (Reshape)          (None, 11)                0         \n",
      "=================================================================\n",
      "Total params: 97,627\n",
      "Trainable params: 97,627\n",
      "Non-trainable params: 0\n",
      "_________________________________________________________________\n"
     ]
    }
   ],
   "source": [
    "dr = 0.5 # dropout rate (%)\n",
    "model = models.Sequential()\n",
    "model.add(Reshape([1]+in_shp, input_shape=in_shp))\n",
    "model.add(ZeroPadding2D((0, 2)))\n",
    "model.add(Convolution2D(256, 1, 3, activation=\"relu\", name=\"conv1\"))\n",
    "model.add(Dropout(dr))\n",
    "model.add(ZeroPadding2D((0, 2)))\n",
    "model.add(Convolution2D(80, 1, 3, activation=\"relu\", name=\"conv2\"))\n",
    "model.add(Dropout(dr))\n",
    "model.add(Flatten())\n",
    "model.add(Dense(256, activation='relu', name=\"dense1\"))\n",
    "model.add(Dropout(dr))\n",
    "model.add(Dense( len(classes), name=\"dense2\" ))\n",
    "model.add(Activation('softmax'))\n",
    "model.add(Reshape([len(classes)]))\n",
    "model.compile(loss='categorical_crossentropy', optimizer='adam')\n",
    "model.summary()"
   ]
  },
  {
   "cell_type": "code",
   "execution_count": 7,
   "metadata": {},
   "outputs": [],
   "source": [
    "# Set up some params \n",
    "nb_epoch = 100     # number of epochs to train on\n",
    "batch_size = 1024  # training batch size"
   ]
  },
  {
   "cell_type": "code",
   "execution_count": 8,
   "metadata": {},
   "outputs": [],
   "source": [
    "from sklearn.model_selection import train_test_split\n",
    "X_train, X_valid, y_train, y_valid = train_test_split(X_train, y_train, test_size=0.2)"
   ]
  },
  {
   "cell_type": "code",
   "execution_count": 9,
   "metadata": {},
   "outputs": [
    {
     "name": "stdout",
     "output_type": "stream",
     "text": [
      "Train on 88000 samples, validate on 22000 samples\n",
      "Epoch 1/100\n",
      "88000/88000 - 10s - loss: 2.2975 - val_loss: 2.2294\n",
      "Epoch 2/100\n",
      "88000/88000 - 8s - loss: 2.2226 - val_loss: 2.1866\n",
      "Epoch 3/100\n",
      "88000/88000 - 8s - loss: 2.1108 - val_loss: 1.9805\n",
      "Epoch 4/100\n",
      "88000/88000 - 8s - loss: 2.0016 - val_loss: 1.9234\n",
      "Epoch 5/100\n",
      "88000/88000 - 8s - loss: 1.9478 - val_loss: 1.8697\n",
      "Epoch 6/100\n",
      "88000/88000 - 8s - loss: 1.9098 - val_loss: 1.8386\n",
      "Epoch 7/100\n",
      "88000/88000 - 8s - loss: 1.8859 - val_loss: 1.8196\n",
      "Epoch 8/100\n",
      "88000/88000 - 8s - loss: 1.8708 - val_loss: 1.8064\n",
      "Epoch 9/100\n",
      "88000/88000 - 8s - loss: 1.8560 - val_loss: 1.7905\n",
      "Epoch 10/100\n",
      "88000/88000 - 8s - loss: 1.8472 - val_loss: 1.7863\n",
      "Epoch 11/100\n",
      "88000/88000 - 9s - loss: 1.8383 - val_loss: 1.7816\n",
      "Epoch 12/100\n",
      "88000/88000 - 8s - loss: 1.8316 - val_loss: 1.7707\n",
      "Epoch 13/100\n",
      "88000/88000 - 8s - loss: 1.8249 - val_loss: 1.7675\n",
      "Epoch 14/100\n",
      "88000/88000 - 8s - loss: 1.8197 - val_loss: 1.7691\n",
      "Epoch 15/100\n",
      "88000/88000 - 8s - loss: 1.8138 - val_loss: 1.7612\n",
      "Epoch 16/100\n",
      "88000/88000 - 9s - loss: 1.8104 - val_loss: 1.7551\n",
      "Epoch 17/100\n",
      "88000/88000 - 8s - loss: 1.8039 - val_loss: 1.7546\n",
      "Epoch 18/100\n",
      "88000/88000 - 8s - loss: 1.8013 - val_loss: 1.7510\n",
      "Epoch 19/100\n",
      "88000/88000 - 8s - loss: 1.7968 - val_loss: 1.7515\n",
      "Epoch 20/100\n",
      "88000/88000 - 8s - loss: 1.7908 - val_loss: 1.7471\n",
      "Epoch 21/100\n",
      "88000/88000 - 8s - loss: 1.7902 - val_loss: 1.7431\n",
      "Epoch 22/100\n",
      "88000/88000 - 8s - loss: 1.7853 - val_loss: 1.7404\n",
      "Epoch 23/100\n",
      "88000/88000 - 8s - loss: 1.7826 - val_loss: 1.7416\n",
      "Epoch 24/100\n",
      "88000/88000 - 8s - loss: 1.7841 - val_loss: 1.7414\n",
      "Epoch 25/100\n",
      "88000/88000 - 8s - loss: 1.7769 - val_loss: 1.7401\n",
      "Epoch 26/100\n",
      "88000/88000 - 8s - loss: 1.7731 - val_loss: 1.7434\n",
      "Epoch 27/100\n",
      "88000/88000 - 9s - loss: 1.7716 - val_loss: 1.7344\n",
      "Epoch 28/100\n",
      "88000/88000 - 9s - loss: 1.7688 - val_loss: 1.7330\n",
      "Epoch 29/100\n",
      "88000/88000 - 8s - loss: 1.7672 - val_loss: 1.7374\n",
      "Epoch 30/100\n",
      "88000/88000 - 8s - loss: 1.7651 - val_loss: 1.7340\n",
      "Epoch 31/100\n",
      "88000/88000 - 9s - loss: 1.7624 - val_loss: 1.7307\n",
      "Epoch 32/100\n",
      "88000/88000 - 8s - loss: 1.7593 - val_loss: 1.7306\n",
      "Epoch 33/100\n",
      "88000/88000 - 8s - loss: 1.7577 - val_loss: 1.7369\n",
      "Epoch 34/100\n",
      "88000/88000 - 9s - loss: 1.7569 - val_loss: 1.7303\n",
      "Epoch 35/100\n",
      "88000/88000 - 8s - loss: 1.7545 - val_loss: 1.7290\n",
      "Epoch 36/100\n",
      "88000/88000 - 8s - loss: 1.7518 - val_loss: 1.7303\n",
      "Epoch 37/100\n",
      "88000/88000 - 9s - loss: 1.7510 - val_loss: 1.7272\n",
      "Epoch 38/100\n",
      "88000/88000 - 8s - loss: 1.7495 - val_loss: 1.7271\n",
      "Epoch 39/100\n",
      "88000/88000 - 10s - loss: 1.7473 - val_loss: 1.7276\n",
      "Epoch 40/100\n",
      "88000/88000 - 9s - loss: 1.7461 - val_loss: 1.7314\n",
      "Epoch 41/100\n",
      "88000/88000 - 9s - loss: 1.7447 - val_loss: 1.7254\n",
      "Epoch 42/100\n",
      "88000/88000 - 9s - loss: 1.7418 - val_loss: 1.7256\n",
      "Epoch 43/100\n",
      "88000/88000 - 9s - loss: 1.7427 - val_loss: 1.7256\n",
      "Epoch 44/100\n",
      "88000/88000 - 9s - loss: 1.7420 - val_loss: 1.7231\n",
      "Epoch 45/100\n",
      "88000/88000 - 8s - loss: 1.7395 - val_loss: 1.7232\n",
      "Epoch 46/100\n",
      "88000/88000 - 9s - loss: 1.7379 - val_loss: 1.7245\n",
      "Epoch 47/100\n",
      "88000/88000 - 9s - loss: 1.7356 - val_loss: 1.7216\n",
      "Epoch 48/100\n",
      "88000/88000 - 8s - loss: 1.7340 - val_loss: 1.7278\n",
      "Epoch 49/100\n",
      "88000/88000 - 9s - loss: 1.7310 - val_loss: 1.7207\n",
      "Epoch 50/100\n",
      "88000/88000 - 8s - loss: 1.7328 - val_loss: 1.7227\n",
      "Epoch 51/100\n",
      "88000/88000 - 9s - loss: 1.7307 - val_loss: 1.7244\n",
      "Epoch 52/100\n",
      "88000/88000 - 9s - loss: 1.7297 - val_loss: 1.7208\n",
      "Epoch 53/100\n",
      "88000/88000 - 8s - loss: 1.7288 - val_loss: 1.7248\n",
      "Epoch 54/100\n",
      "88000/88000 - 8s - loss: 1.7242 - val_loss: 1.7253\n",
      "453.65301418304443\n"
     ]
    }
   ],
   "source": [
    "# perform training ...\n",
    "#   - call the main training loop in keras for our network+dataset\n",
    "filepath = 'convmodrecnets_CNN2_0.5.wts.h5'\n",
    "import time\n",
    "t_0=time.time()\n",
    "\n",
    "history = model.fit(X_train,\n",
    "    y_train,\n",
    "    batch_size=batch_size,\n",
    "    epochs=nb_epoch,\n",
    "    verbose=2,\n",
    "    validation_data=(X_valid, y_valid),\n",
    "    callbacks = [\n",
    "        tensorflow.keras.callbacks.ModelCheckpoint(filepath, monitor='val_loss', verbose=0, save_best_only=True, mode='auto'),\n",
    "        tensorflow.keras.callbacks.EarlyStopping(monitor='val_loss', patience=5, verbose=0, mode='auto')\n",
    "    ])\n",
    "delta_t=time.time()-t_0\n",
    "print(delta_t)\n",
    "# we re-load the best weights once training is finished\n",
    "model.load_weights(filepath)"
   ]
  },
  {
   "cell_type": "code",
   "execution_count": 10,
   "metadata": {},
   "outputs": [
    {
     "name": "stdout",
     "output_type": "stream",
     "text": [
      "1.7183428375937722\n"
     ]
    }
   ],
   "source": [
    "# Show simple version of performance\n",
    "score = model.evaluate(X_test, y_test, verbose=0, batch_size=batch_size)\n",
    "print(score)"
   ]
  },
  {
   "cell_type": "code",
   "execution_count": 11,
   "metadata": {},
   "outputs": [
    {
     "data": {
      "text/plain": [
       "<matplotlib.legend.Legend at 0x7fc5a8d7da58>"
      ]
     },
     "execution_count": 11,
     "metadata": {},
     "output_type": "execute_result"
    },
    {
     "data": {
      "image/png": "[encoded data removed]",
      "text/plain": [
       "<Figure size 432x288 with 1 Axes>"
      ]
     },
     "metadata": {
      "needs_background": "light"
     },
     "output_type": "display_data"
    }
   ],
   "source": [
    "# Show loss curves \n",
    "plt.figure()\n",
    "plt.title('Training performance')\n",
    "plt.plot(history.epoch, history.history['loss'], label='train loss+error')\n",
    "plt.plot(history.epoch, history.history['val_loss'], label='val_error')\n",
    "plt.legend()"
   ]
  },
  {
   "cell_type": "code",
   "execution_count": 12,
   "metadata": {},
   "outputs": [],
   "source": [
    "def plot_confusion_matrix(cm, title='Confusion matrix', cmap=plt.cm.Blues, labels=[]):\n",
    "    plt.imshow(cm, interpolation='nearest', cmap=cmap)\n",
    "    plt.title(title)\n",
    "    plt.colorbar()\n",
    "    tick_marks = np.arange(len(labels))\n",
    "    plt.xticks(tick_marks, labels, rotation=45)\n",
    "    plt.yticks(tick_marks, labels)\n",
    "    plt.tight_layout()\n",
    "    plt.ylabel('True label')\n",
    "    plt.xlabel('Predicted label')"
   ]
  },
  {
   "cell_type": "code",
   "execution_count": 13,
   "metadata": {},
   "outputs": [
    {
     "data": {
      "image/png": "[encoded data removed]",
      "text/plain": [
       "<Figure size 432x288 with 2 Axes>"
      ]
     },
     "metadata": {
      "needs_background": "light"
     },
     "output_type": "display_data"
    }
   ],
   "source": [
    "# Plot confusion matrix\n",
    "test_Y_hat = model.predict(X_test, batch_size=batch_size)\n",
    "conf = np.zeros([len(classes),len(classes)])\n",
    "confnorm = np.zeros([len(classes),len(classes)])\n",
    "for i in range(0,X_test.shape[0]):\n",
    "    j = list(y_test[i,:]).index(1)\n",
    "    k = int(np.argmax(test_Y_hat[i,:]))\n",
    "    conf[j,k] = conf[j,k] + 1\n",
    "for i in range(0,len(classes)):\n",
    "    confnorm[i,:] = conf[i,:] / np.sum(conf[i,:])\n",
    "plot_confusion_matrix(confnorm, labels=classes)"
   ]
  },
  {
   "cell_type": "code",
   "execution_count": 14,
   "metadata": {},
   "outputs": [
    {
     "name": "stdout",
     "output_type": "stream",
     "text": [
      "Overall Accuracy:  0.08926005747126436 for SNR b'-20'\n",
      "Overall Accuracy:  0.09472531483847417 for SNR b'-18'\n",
      "Overall Accuracy:  0.09718716191849983 for SNR b'-16'\n",
      "Overall Accuracy:  0.10534016093635698 for SNR b'-14'\n",
      "Overall Accuracy:  0.13100983020554066 for SNR b'-12'\n",
      "Overall Accuracy:  0.19256943167187787 for SNR b'-10'\n",
      "Overall Accuracy:  0.24149408284023668 for SNR b'-8'\n",
      "Overall Accuracy:  0.3078750228393934 for SNR b'-6'\n",
      "Overall Accuracy:  0.42667622803872357 for SNR b'-4'\n",
      "Overall Accuracy:  0.46278140885984026 for SNR b'-2'\n",
      "Overall Accuracy:  0.4788680632120544 for SNR b'0'\n",
      "Overall Accuracy:  0.4858490566037736 for SNR b'2'\n",
      "Overall Accuracy:  0.4775846294602013 for SNR b'4'\n",
      "Overall Accuracy:  0.49110254999082736 for SNR b'6'\n",
      "Overall Accuracy:  0.48256023013304566 for SNR b'8'\n",
      "Overall Accuracy:  0.4739277451503826 for SNR b'10'\n",
      "Overall Accuracy:  0.4846167849990898 for SNR b'12'\n",
      "Overall Accuracy:  0.494631483166515 for SNR b'14'\n",
      "Overall Accuracy:  0.4829535095715588 for SNR b'16'\n",
      "Overall Accuracy:  0.4878138847858198 for SNR b'18'\n",
      "Random Guess Accuracy: 0.09090909090909091\n"
     ]
    }
   ],
   "source": [
    "# Get the test accuracy for different SNRs\n",
    "acc = {}\n",
    "acc_array=[]\n",
    "\n",
    "snr_array=np.asarray(lbl)[:,1]\n",
    "lb_temp = preprocessing.LabelBinarizer()\n",
    "lb_temp.fit(snr_array)\n",
    "temp_array=lb_temp.classes_\n",
    "snr_label_array = []\n",
    "\n",
    "\n",
    "snr_label_array.append(temp_array[6])\n",
    "snr_label_array.append(temp_array[4])\n",
    "snr_label_array.append(temp_array[3])\n",
    "snr_label_array.append(temp_array[2])\n",
    "snr_label_array.append(temp_array[1])\n",
    "snr_label_array.append(temp_array[0])\n",
    "snr_label_array.append(temp_array[9])\n",
    "snr_label_array.append(temp_array[8])\n",
    "snr_label_array.append(temp_array[7])\n",
    "snr_label_array.append(temp_array[5])\n",
    "snr_label_array.append(temp_array[10])\n",
    "snr_label_array.append(temp_array[16])\n",
    "snr_label_array.append(temp_array[17])\n",
    "snr_label_array.append(temp_array[18])\n",
    "snr_label_array.append(temp_array[19])\n",
    "snr_label_array.append(temp_array[11])\n",
    "snr_label_array.append(temp_array[12])\n",
    "snr_label_array.append(temp_array[13])\n",
    "snr_label_array.append(temp_array[14])\n",
    "snr_label_array.append(temp_array[15])\n",
    "\n",
    "\n",
    "#print(snr_label_array)\n",
    "y_test_snr=snr_array[test_idx]\n",
    "\n",
    "\n",
    "\n",
    "for snr in snr_label_array:\n",
    "    test_X_i = X_test[np.where(y_test_snr==snr)]\n",
    "    test_Y_i = y_test[np.where(y_test_snr==snr)]\n",
    "    \n",
    "    test_Y_i_hat = model.predict(test_X_i)\n",
    "    conf = np.zeros([len(classes),len(classes)])\n",
    "    confnorm = np.zeros([len(classes),len(classes)])\n",
    "    for i in range(0,test_X_i.shape[0]):\n",
    "        j = list(test_Y_i[i,:]).index(1)\n",
    "        k = int(np.argmax(test_Y_i_hat[i,:]))\n",
    "        conf[j,k] = conf[j,k] + 1\n",
    "    for i in range(0,len(classes)):\n",
    "        confnorm[i,:] = conf[i,:] / np.sum(conf[i,:])\n",
    "    \n",
    "    #plt.figure()\n",
    "    #plot_confusion_matrix(confnorm, labels=classes, title=\"ConvNet Confusion Matrix (SNR=%d)\"%(snr))\n",
    "    \n",
    "    cor = np.sum(np.diag(conf))\n",
    "    ncor = np.sum(conf) - cor\n",
    "    print(\"Overall Accuracy: \", cor / (cor+ncor),\"for SNR\",snr)\n",
    "    acc[snr] = 1.0*cor/(cor+ncor)\n",
    "    acc_array.append(1.0*cor/(cor+ncor))\n",
    "\n",
    "print(\"Random Guess Accuracy:\",1/11)"
   ]
  },
  {
   "cell_type": "code",
   "execution_count": 15,
   "metadata": {},
   "outputs": [
    {
     "data": {
      "text/plain": [
       "[<matplotlib.lines.Line2D at 0x7fc5a8d00e48>]"
      ]
     },
     "execution_count": 15,
     "metadata": {},
     "output_type": "execute_result"
    },
    {
     "data": {
      "image/png": "[encoded data removed]",
      "text/plain": [
       "<Figure size 432x288 with 1 Axes>"
      ]
     },
     "metadata": {
      "needs_background": "light"
     },
     "output_type": "display_data"
    }
   ],
   "source": [
    "# Show loss curves \n",
    "plt.figure()\n",
    "plt.title('Accuracy vs SNRs')\n",
    "plt.plot(np.arange(-20,20,2), acc_array)"
   ]
  }
 ],
 "metadata": {
  "kernelspec": {
   "display_name": "Python 3",
   "language": "python",
   "name": "python3"
  },
  "language_info": {
   "codemirror_mode": {
    "name": "ipython",
    "version": 3
   },
   "file_extension": ".py",
   "mimetype": "text/x-python",
   "name": "python",
   "nbconvert_exporter": "python",
   "pygments_lexer": "ipython3",
   "version": "3.7.3"
  }
 },
 "nbformat": 4,
 "nbformat_minor": 2
}
